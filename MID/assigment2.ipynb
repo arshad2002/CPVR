{
 "cells": [
  {
   "cell_type": "code",
   "execution_count": 1,
   "id": "045155ac-ac69-44f2-8ec8-d19b96621a5c",
   "metadata": {},
   "outputs": [],
   "source": [
    "import numpy as np\n",
    "import matplotlib.pyplot as plt\n",
    "from sklearn.datasets import make_classification\n",
    "from sklearn.preprocessing import OneHotEncoder\n",
    "from sklearn.model_selection import train_test_split\n",
    "from sklearn.metrics import accuracy_score, precision_score, recall_score, f1_score"
   ]
  },
  {
   "cell_type": "code",
   "execution_count": 2,
   "id": "ef2b8ba7-b51b-436c-84f4-4b8d3168190b",
   "metadata": {},
   "outputs": [],
   "source": [
    "# Generate synthetic dataset\n",
    "X, y = make_classification(\n",
    "    n_samples=10000,        \n",
    "    n_features=5,          \n",
    "    n_informative=5,       \n",
    "    n_redundant=0,         \n",
    "    n_clusters_per_class=1,\n",
    "    n_classes=5,\n",
    "    random_state=42\n",
    ")\n",
    "\n",
    "encoder = OneHotEncoder(sparse_output=False)\n",
    "y_onehot = encoder.fit_transform(y.reshape(-1, 1))"
   ]
  },
  {
   "cell_type": "code",
   "execution_count": 3,
   "id": "2049173f-62ee-4e8a-9b68-7ed8546a335e",
   "metadata": {},
   "outputs": [],
   "source": [
    "X_train, X_val, y_train, y_val = train_test_split(X, y_onehot, test_size=0.2)"
   ]
  },
  {
   "cell_type": "code",
   "execution_count": 4,
   "id": "cc802646-6d0e-4ddc-9993-a33ed81bc297",
   "metadata": {},
   "outputs": [
    {
     "data": {
      "text/plain": [
       "(10000, 5)"
      ]
     },
     "execution_count": 4,
     "metadata": {},
     "output_type": "execute_result"
    }
   ],
   "source": [
    "X.shape"
   ]
  },
  {
   "cell_type": "code",
   "execution_count": 5,
   "id": "d8fd64ca-2a1a-4cbe-a2ce-58d49aa30967",
   "metadata": {},
   "outputs": [
    {
     "data": {
      "text/plain": [
       "(10000, 5)"
      ]
     },
     "execution_count": 5,
     "metadata": {},
     "output_type": "execute_result"
    }
   ],
   "source": [
    "y_onehot.shape"
   ]
  },
  {
   "cell_type": "code",
   "execution_count": 6,
   "id": "8a78358b-1f3f-467d-a7d6-e65deb4b26af",
   "metadata": {},
   "outputs": [],
   "source": [
    "class NeuralNetwork:\n",
    "    def __init__(self):\n",
    "        # here is change in numbers of hidden layer and weights as per the assigment requirement\n",
    "        inputLayerNeurons = 5 \n",
    "        hiddenLayerNeurons1 = 10\n",
    "        hiddenLayerNeurons2 = 10\n",
    "        hiddenLayerNeurons3 = 10\n",
    "        outputLayerNeurons = 5 \n",
    "        \n",
    "        self.learningRate = 0.00001\n",
    "        self.W_HI = np.random.rand(inputLayerNeurons, hiddenLayerNeurons1)\n",
    "        self.W_HH1 = np.random.rand(hiddenLayerNeurons1, hiddenLayerNeurons2)\n",
    "        self.W_HH2 = np.random.rand(hiddenLayerNeurons2, hiddenLayerNeurons3)\n",
    "        self.W_HO = np.random.rand(hiddenLayerNeurons3, outputLayerNeurons)\n",
    "        \n",
    "    # Activation functions\n",
    "    '''relu is more efficient than sigmoid thats why used it'''\n",
    "    def ReLU(self, x, der=False):\n",
    "        if der:\n",
    "            return np.where(x > 0, 1, 0)  \n",
    "        else:\n",
    "            return np.maximum(0, x)\n",
    "                \n",
    "    def softmax(self, x):\n",
    "        e_x = np.exp(x - np.max(x, axis=1, keepdims=True))\n",
    "        return e_x / e_x.sum(axis=1, keepdims=True)\n",
    "\n",
    "    def forward(self, X):\n",
    "        self.hidden_input1 = np.dot(X, self.W_HI)\n",
    "        self.hidden_output1 = self.ReLU(self.hidden_input1)\n",
    "        \n",
    "        self.hidden_input2 = np.dot(self.hidden_output1, self.W_HH1)\n",
    "        self.hidden_output2 = self.ReLU(self.hidden_input2)\n",
    "        \n",
    "        self.hidden_input3 = np.dot(self.hidden_output2, self.W_HH2)\n",
    "        self.hidden_output3 = self.ReLU(self.hidden_input3)\n",
    "\n",
    "        self.output_input = np.dot(self.hidden_output3, self.W_HO)\n",
    "        ''' As The SoftMax activation function normalizes \n",
    "        the input values into a probability distribution, \n",
    "        ensuring that the sum of all output values is 1.\n",
    "        Thats why used in the output layer'''\n",
    "        pred = self.softmax(self.output_input) \n",
    "        return pred\n",
    "    \n",
    "\n",
    "    def backward(self, X, Y, pred):\n",
    "        output_error = Y - pred\n",
    "        '''The gradient of the loss with respect to the network output, \n",
    "        when using softmax and cross-entropy, simplifies to the difference \n",
    "        between the predicted softmax output and the true labels. '''\n",
    "        output_delta = output_error \n",
    "\n",
    "        hidden_error3 = output_delta.dot(self.W_HO.T)\n",
    "        hidden_delta3 = hidden_error3 * self.ReLU(self.hidden_output3, der=True)\n",
    "\n",
    "        hidden_error2 = hidden_delta3.dot(self.W_HH2.T)\n",
    "        hidden_delta2 = hidden_error2 * self.ReLU(self.hidden_output2, der=True)\n",
    "\n",
    "        hidden_error1 = hidden_delta2.dot(self.W_HH1.T)\n",
    "        hidden_delta1 = hidden_error1 * self.ReLU(self.hidden_output1, der=True)\n",
    "\n",
    "        self.W_HI += X.T.dot(hidden_delta1) * self.learningRate\n",
    "        self.W_HH1 += self.hidden_output1.T.dot(hidden_delta2) * self.learningRate\n",
    "        self.W_HH2 += self.hidden_output2.T.dot(hidden_delta3) * self.learningRate\n",
    "        self.W_HO += self.hidden_output3.T.dot(output_delta) * self.learningRate\n",
    "\n",
    "    def train(self, X, Y):\n",
    "        output = self.forward(X)\n",
    "        self.backward(X, Y, output)\n",
    "        return output"
   ]
  },
  {
   "cell_type": "code",
   "execution_count": 7,
   "id": "9a4817b2-f938-41d6-8b9b-16ed84304bc3",
   "metadata": {},
   "outputs": [],
   "source": [
    "NN = NeuralNetwork()\n",
    "# Lists to store training and validation errors\n",
    "train_errors = []\n",
    "val_errors = []\n",
    "\n",
    "# Initialize variables to store final outputs\n",
    "final_train_outputs = None\n",
    "final_val_outputs = None\n",
    "\n",
    "for i in range(10000):\n",
    "    # Train the network on the training data\n",
    "    NN.train(X_train, y_train)\n",
    "    output_train = NN.forward(X_train)\n",
    "    \n",
    "    # Calculate and store training error\n",
    "    train_error = np.mean(np.square(y_train - output_train))\n",
    "    train_errors.append(train_error)\n",
    "    \n",
    "    # Forward pass on the validation set\n",
    "    output_val = NN.forward(X_val)\n",
    "    \n",
    "    # Calculate and store validation error\n",
    "    val_error = np.mean(np.square(y_val - output_val))\n",
    "    val_errors.append(val_error)\n",
    "\n",
    "    # Store final outputs\n",
    "    final_train_outputs = output_train\n",
    "    final_val_outputs = output_val"
   ]
  },
  {
   "cell_type": "code",
   "execution_count": 8,
   "id": "3864211f-63ff-4d77-b27e-182295827a1d",
   "metadata": {},
   "outputs": [
    {
     "data": {
      "image/png": "[encoded data removed]",
      "text/plain": [
       "<Figure size 1700x700 with 1 Axes>"
      ]
     },
     "metadata": {},
     "output_type": "display_data"
    }
   ],
   "source": [
    "# Plotting training and validation error\n",
    "plt.figure(figsize=(17,7))\n",
    "plt.plot(train_errors, label='Training Error')\n",
    "plt.plot(val_errors, label='Validation Error')\n",
    "plt.xlabel('Epoch')\n",
    "plt.ylabel('Mean Squared Error')\n",
    "plt.title('Training and Validation Error')\n",
    "plt.legend()\n",
    "plt.show()"
   ]
  },
  {
   "cell_type": "code",
   "execution_count": 9,
   "id": "02b27a7d-2cb0-40dd-97c4-2e308a420844",
   "metadata": {},
   "outputs": [
    {
     "name": "stdout",
     "output_type": "stream",
     "text": [
      "Training Accuracy: 0.9015\n",
      "Validation Accuracy: 0.888\n",
      "Training Precision: 0.9020836128003469\n",
      "Validation Precision: 0.8882383027340737\n",
      "Training Recall: 0.9016479322899322\n",
      "Validation Recall: 0.8872398834989971\n",
      "Training F1 Score: 0.901719864150585\n",
      "Validation F1 Score: 0.8874355738097295\n"
     ]
    }
   ],
   "source": [
    "# Convert outputs to class labels\n",
    "def convert_to_labels(output):\n",
    "    return np.argmax(output, axis=1)\n",
    "\n",
    "# Convert true labels to class labels\n",
    "y_train_true = convert_to_labels(y_train)\n",
    "y_val_true = convert_to_labels(y_val)\n",
    "\n",
    "# Convert final outputs to class labels\n",
    "y_train_pred = convert_to_labels(final_train_outputs)\n",
    "y_val_pred = convert_to_labels(final_val_outputs)\n",
    "\n",
    "# Calculate evaluation metrics\n",
    "train_accuracy = accuracy_score(y_train_true, y_train_pred)\n",
    "val_accuracy = accuracy_score(y_val_true, y_val_pred)\n",
    "\n",
    "train_precision = precision_score(y_train_true, y_train_pred, average='macro', zero_division=0)\n",
    "val_precision = precision_score(y_val_true, y_val_pred, average='macro')\n",
    "\n",
    "train_recall = recall_score(y_train_true, y_train_pred, average='macro')\n",
    "val_recall = recall_score(y_val_true, y_val_pred, average='macro')\n",
    "\n",
    "train_f1 = f1_score(y_train_true, y_train_pred, average='macro')\n",
    "val_f1 = f1_score(y_val_true, y_val_pred, average='macro')\n",
    "\n",
    "# Print or log the final metrics\n",
    "print(\"Training Accuracy:\", train_accuracy)\n",
    "print(\"Validation Accuracy:\", val_accuracy)\n",
    "print(\"Training Precision:\", train_precision)\n",
    "print(\"Validation Precision:\", val_precision)\n",
    "print(\"Training Recall:\", train_recall)\n",
    "print(\"Validation Recall:\", val_recall)\n",
    "print(\"Training F1 Score:\", train_f1)\n",
    "print(\"Validation F1 Score:\", val_f1)"
   ]
  },
  {
   "cell_type": "code",
   "execution_count": null,
   "id": "4afa6cb8-a81c-45e8-b514-d891ef1921ac",
   "metadata": {},
   "outputs": [],
   "source": []
  }
 ],
 "metadata": {
  "kernelspec": {
   "display_name": "Python 3 (ipykernel)",
   "language": "python",
   "name": "python3"
  },
  "language_info": {
   "codemirror_mode": {
    "name": "ipython",
    "version": 3
   },
   "file_extension": ".py",
   "mimetype": "text/x-python",
   "name": "python",
   "nbconvert_exporter": "python",
   "pygments_lexer": "ipython3",
   "version": "3.12.4"
  }
 },
 "nbformat": 4,
 "nbformat_minor": 5
}
